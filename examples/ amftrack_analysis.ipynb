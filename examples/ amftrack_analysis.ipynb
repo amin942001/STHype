{
 "cells": [
  {
   "cell_type": "markdown",
   "metadata": {},
   "source": [
    "# 0. Import Lib"
   ]
  },
  {
   "cell_type": "code",
   "execution_count": 1,
   "metadata": {},
   "outputs": [],
   "source": [
    "import networkx as nx\n",
    "import numpy as np\n",
    "from sthype import SpatialGraph\n",
    "from sthype.graph_functions import spatial_temporal_graph_from_spatial_graphs\n",
    "from sthype.plot import plot_spatial_temporal_graph, plot_spatial_temporal_graph_node, plot_spatial_graph, plot_spatial_temporal_graph_hyperedge\n",
    "import matplotlib.pyplot as plt\n",
    "import os\n",
    "import pickle\n",
    "\n",
    "%load_ext autoreload\n",
    "%autoreload 2"
   ]
  },
  {
   "cell_type": "markdown",
   "metadata": {},
   "source": [
    "# 1. Import Graph"
   ]
  },
  {
   "cell_type": "code",
   "execution_count": 2,
   "metadata": {},
   "outputs": [
    {
     "data": {
      "text/plain": [
       "[<networkx.classes.graph.Graph at 0x7fda346a41d0>,\n",
       " <networkx.classes.graph.Graph at 0x7fda349ebcb0>,\n",
       " <networkx.classes.graph.Graph at 0x7fda346a4c80>,\n",
       " <networkx.classes.graph.Graph at 0x7fda348659a0>,\n",
       " <networkx.classes.graph.Graph at 0x7fda346e44d0>,\n",
       " <networkx.classes.graph.Graph at 0x7fda349c5190>,\n",
       " <networkx.classes.graph.Graph at 0x7fda346a4920>,\n",
       " <networkx.classes.graph.Graph at 0x7fda34f7a330>,\n",
       " <networkx.classes.graph.Graph at 0x7fda346e4290>,\n",
       " <networkx.classes.graph.Graph at 0x7fda34957080>,\n",
       " <networkx.classes.graph.Graph at 0x7fda346a4800>,\n",
       " <networkx.classes.graph.Graph at 0x7fda6780f740>,\n",
       " <networkx.classes.graph.Graph at 0x7fda346a45c0>,\n",
       " <networkx.classes.graph.Graph at 0x7fda346a40b0>,\n",
       " <networkx.classes.graph.Graph at 0x7fda346e40b0>,\n",
       " <networkx.classes.graph.Graph at 0x7fda3504ba70>,\n",
       " <networkx.classes.graph.Graph at 0x7fda346e43b0>,\n",
       " <networkx.classes.graph.Graph at 0x7fda3505d4c0>,\n",
       " <networkx.classes.graph.Graph at 0x7fda346e61e0>,\n",
       " <networkx.classes.graph.Graph at 0x7fda57065130>,\n",
       " <networkx.classes.graph.Graph at 0x7fda346e4170>]"
      ]
     },
     "execution_count": 2,
     "metadata": {},
     "output_type": "execute_result"
    }
   ],
   "source": [
    "graphs = []\n",
    "\n",
    "str_directory = \"/home/ipausers/hamzaoui/Documents/Data/Graphs/482_20230908\"\n",
    "directory = os.fsencode(str_directory)\n",
    "\n",
    "for file in os.listdir(directory):\n",
    "    filename = os.fsdecode(file)\n",
    "    file_path = os.path.join(str_directory, filename)\n",
    "    if filename.endswith('pickle'):\n",
    "        graphs.append((filename, pickle.load(open(file_path, 'rb'))))\n",
    "\n",
    "graphs.sort()\n",
    "graphs = [graph for _, graph in graphs]\n",
    "graphs"
   ]
  },
  {
   "cell_type": "markdown",
   "metadata": {},
   "source": [
    "# 2. Set up stg"
   ]
  },
  {
   "cell_type": "code",
   "execution_count": 3,
   "metadata": {},
   "outputs": [],
   "source": [
    "spatial_graphs = [SpatialGraph(graph) for graph in graphs]\n",
    "spatial_graph = spatial_graphs[-1]\n",
    "sg = spatial_graph"
   ]
  },
  {
   "cell_type": "code",
   "execution_count": 4,
   "metadata": {},
   "outputs": [
    {
     "name": "stdout",
     "output_type": "stream",
     "text": [
      "Segmentation\n",
      "Edge Activation\n",
      "Comparing with graph 20\n",
      "Comparing with graph 19\n",
      "Comparing with graph 18\n",
      "Comparing with graph 17\n",
      "Comparing with graph 16\n",
      "Comparing with graph 15\n",
      "Comparing with graph 14\n",
      "Comparing with graph 13\n",
      "Comparing with graph 12\n",
      "Comparing with graph 11\n",
      "Comparing with graph 10\n",
      "Comparing with graph 9\n",
      "Comparing with graph 8\n",
      "Comparing with graph 7\n",
      "Comparing with graph 6\n",
      "Comparing with graph 5\n",
      "Comparing with graph 4\n",
      "Comparing with graph 3\n",
      "Comparing with graph 2\n",
      "Comparing with graph 1\n",
      "Comparing with graph 0\n"
     ]
    }
   ],
   "source": [
    "spatial_temporal_graph = spatial_temporal_graph_from_spatial_graphs(spatial_graphs, np.arange(len(spatial_graphs)), verbose=1)\n",
    "stg = spatial_temporal_graph"
   ]
  },
  {
   "cell_type": "markdown",
   "metadata": {},
   "source": [
    "# 3. Analysis"
   ]
  },
  {
   "cell_type": "code",
   "execution_count": null,
   "metadata": {},
   "outputs": [],
   "source": [
    "g_t = []\n",
    "for i in range(21):\n",
    "    g_t.append(stg.get_graph_at(i))\n",
    "widths_t = []\n",
    "\n",
    "hyperedge_e = {}\n",
    "for u, v, ed in g_t[-1].edges(data=True):\n",
    "    hyperedge_e.setdefault(ed[\"hyperedge\"], []).append((u, v, ed['activation'], LineString(ed['pixels']).length))"
   ]
  },
  {
   "cell_type": "code",
   "execution_count": null,
   "metadata": {},
   "outputs": [],
   "source": [
    "tips = []\n",
    "tips_light = []\n",
    "growth_l = []\n",
    "growth_s = []\n",
    "growth_v = []\n",
    "for edges in hyperedge_e.values():\n",
    "    for i in range(1, 20):\n",
    "        widths = [g_t[i+1][u][v]['attributes'].get('width', [np.nan]) for u, v, a, l in edges if a==i]\n",
    "        widths = [w for ws in widths for w in ws]\n",
    "        width = np.median(widths)\n",
    "        if np.isnan(width) or width<=2:\n",
    "            continue\n",
    "        lengths = [l for u, v, a, l in edges if a==i+1]\n",
    "        ss = [np.pi*l*np.median(g_t[a][u][v]['attributes'].get('width', np.nan)) for u, v, a, l in edges if a==i+1]\n",
    "        vs = [np.pi*l*np.median(g_t[a][u][v]['attributes'].get('width', np.nan))*np.median(g_t[a][u][v]['attributes'].get('width', np.nan))/4 for u, v, a, l in edges if a==i+1]\n",
    "        length = np.sum(lengths)\n",
    "        if length==0:\n",
    "            continue\n",
    "        tips.append(width)\n",
    "        growth_l.append(length)\n",
    "        if np.isnan(ss).any():\n",
    "            continue\n",
    "        tips_light.append(width)\n",
    "        s = np.sum(ss)\n",
    "        v = np.sum(vs)\n",
    "        growth_s.append(s)\n",
    "        growth_v.append(v)"
   ]
  },
  {
   "cell_type": "markdown",
   "metadata": {},
   "source": []
  }
 ],
 "metadata": {
  "kernelspec": {
   "display_name": "STHypeEnv",
   "language": "python",
   "name": "python3"
  },
  "language_info": {
   "codemirror_mode": {
    "name": "ipython",
    "version": 3
   },
   "file_extension": ".py",
   "mimetype": "text/x-python",
   "name": "python",
   "nbconvert_exporter": "python",
   "pygments_lexer": "ipython3",
   "version": "3.12.2"
  }
 },
 "nbformat": 4,
 "nbformat_minor": 2
}

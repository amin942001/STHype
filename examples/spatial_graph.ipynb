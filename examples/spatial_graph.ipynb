{
 "cells": [
  {
   "cell_type": "markdown",
   "metadata": {},
   "source": [
    "# Import Lib"
   ]
  },
  {
   "cell_type": "code",
   "execution_count": 3,
   "metadata": {},
   "outputs": [],
   "source": [
    "import networkx as nx\n",
    "import numpy as np\n",
    "from sthype import SpatialGraph\n",
    "from sthype.plot import plot_spatial_graph\n",
    "from sthype.hypergraph.hypergraph_from_spatial_graphs import hypergraph_from_spatial_graphs, graph_segmentation\n",
    "import matplotlib.pyplot as plt\n",
    "\n",
    "%load_ext autoreload\n",
    "%autoreload 2"
   ]
  },
  {
   "cell_type": "markdown",
   "metadata": {},
   "source": [
    "# Set Up a SpatialGraph"
   ]
  },
  {
   "cell_type": "code",
   "execution_count": 4,
   "metadata": {},
   "outputs": [],
   "source": [
    "g = nx.Graph()\n",
    "g.add_edges_from([(1, 2, {'pixels': [np.array([1, 2]), (2, 4), [3,4]]}), (2, 3, {'pixels': [np.array([1, 2]), (0, 1), [1,3]]})])\n",
    "nx.set_node_attributes(g, {1: (3, 4), 2: (1, 2), 3: (1, 3)}, 'position')\n",
    "sg = SpatialGraph(g)"
   ]
  },
  {
   "cell_type": "markdown",
   "metadata": {},
   "source": [
    "# Tests some functions"
   ]
  },
  {
   "cell_type": "code",
   "execution_count": 5,
   "metadata": {},
   "outputs": [
    {
     "name": "stdout",
     "output_type": "stream",
     "text": [
      "(1, 2, {'pixels': [array([1, 2]), (2, 4), [3, 4]]})\n",
      "(2, 3, {'pixels': [array([1, 2]), (0, 1), [1, 3]]})\n"
     ]
    }
   ],
   "source": [
    "for edge in sg.edges(data=True):\n",
    "    print(edge)"
   ]
  },
  {
   "cell_type": "code",
   "execution_count": 6,
   "metadata": {},
   "outputs": [
    {
     "name": "stdout",
     "output_type": "stream",
     "text": [
      "(1, {'position': (3, 4)})\n",
      "(2, {'position': (1, 2)})\n",
      "(3, {'position': (1, 3)})\n"
     ]
    }
   ],
   "source": [
    "for node in sg.nodes(data=True):\n",
    "    print(node)"
   ]
  },
  {
   "cell_type": "code",
   "execution_count": 7,
   "metadata": {},
   "outputs": [
    {
     "name": "stdout",
     "output_type": "stream",
     "text": [
      "LINESTRING (3 4, 2 4, 1 2)\n"
     ]
    }
   ],
   "source": [
    "print(sg.edge_pixels(1, 2))"
   ]
  },
  {
   "cell_type": "code",
   "execution_count": 8,
   "metadata": {},
   "outputs": [
    {
     "name": "stdout",
     "output_type": "stream",
     "text": [
      "LINESTRING (1 2, 2 4, 3 4)\n"
     ]
    }
   ],
   "source": [
    "print(sg.edge_pixels(2, 1))"
   ]
  },
  {
   "cell_type": "code",
   "execution_count": 9,
   "metadata": {},
   "outputs": [
    {
     "name": "stdout",
     "output_type": "stream",
     "text": [
      "POINT (3 4)\n"
     ]
    }
   ],
   "source": [
    "print(sg.node_position(1))"
   ]
  },
  {
   "cell_type": "markdown",
   "metadata": {},
   "source": [
    "# Test Plot"
   ]
  },
  {
   "cell_type": "code",
   "execution_count": 10,
   "metadata": {},
   "outputs": [
    {
     "data": {
      "image/png": "[encoded data removed]",
      "text/plain": [
       "<Figure size 640x480 with 1 Axes>"
      ]
     },
     "metadata": {},
     "output_type": "display_data"
    }
   ],
   "source": [
    "plot = plot_spatial_graph(sg, add_nodes=True, region=[[-1, -1], [5, 5]]);"
   ]
  }
 ],
 "metadata": {
  "kernelspec": {
   "display_name": "base",
   "language": "python",
   "name": "python3"
  },
  "language_info": {
   "codemirror_mode": {
    "name": "ipython",
    "version": 3
   },
   "file_extension": ".py",
   "mimetype": "text/x-python",
   "name": "python",
   "nbconvert_exporter": "python",
   "pygments_lexer": "ipython3",
   "version": "3.12.2"
  }
 },
 "nbformat": 4,
 "nbformat_minor": 2
}

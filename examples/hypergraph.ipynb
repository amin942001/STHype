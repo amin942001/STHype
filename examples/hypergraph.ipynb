{
 "cells": [
  {
   "cell_type": "markdown",
   "metadata": {},
   "source": [
    "# Import Libraries"
   ]
  },
  {
   "cell_type": "code",
   "execution_count": 1,
   "metadata": {},
   "outputs": [],
   "source": [
    "import networkx as nx\n",
    "import numpy as np\n",
    "from sthype import SpatialGraph\n",
    "from sthype.hypergraph.hypergraph_from_spatial_graphs import hypergraph_from_spatial_graphs\n",
    "\n",
    "%load_ext autoreload\n",
    "%autoreload 2"
   ]
  },
  {
   "cell_type": "markdown",
   "metadata": {},
   "source": [
    "# Set Up Spatial Graphs"
   ]
  },
  {
   "cell_type": "code",
   "execution_count": 2,
   "metadata": {},
   "outputs": [],
   "source": [
    "g = nx.Graph()\n",
    "g.add_edges_from([(1, 2, {'pixels': [np.array([1, 2]), (2, 4), [3,4]]}), (2, 3, {'pixels': [np.array([1, 2]), (0, 1), [1,3]]})])\n",
    "nx.set_node_attributes(g, {1: (3, 4), 2: (1, 2), 3: (1, 3)}, 'position')\n",
    "sg = SpatialGraph(g)\n",
    "\n",
    "g2 = nx.Graph()\n",
    "g2.add_edges_from([\n",
    "    (1, 2, {'pixels': [np.array([1, 2]), (2, 4), [3,4]]}),\n",
    "    (2, 3, {'pixels': [np.array([1, 2]), (0, 1), [1,3]]}),\n",
    "    (2, 4, {'pixels': [np.array([1, 2]), (0, 1), [20,40]]})\n",
    "])\n",
    "nx.set_node_attributes(g2, {1: (3, 4), 2: (1, 2), 3: (1, 3), 4: (20, 40)}, 'position')\n",
    "sg2 = SpatialGraph(g2)"
   ]
  },
  {
   "cell_type": "markdown",
   "metadata": {},
   "source": [
    "# Set Up HyperGraph"
   ]
  },
  {
   "cell_type": "code",
   "execution_count": 3,
   "metadata": {},
   "outputs": [],
   "source": [
    "hg = hypergraph_from_spatial_graphs([sg, sg2], [1, 2], 3, 3)"
   ]
  },
  {
   "cell_type": "markdown",
   "metadata": {},
   "source": [
    "# Test Some Class Functions"
   ]
  },
  {
   "cell_type": "code",
   "execution_count": 4,
   "metadata": {},
   "outputs": [
    {
     "data": {
      "text/plain": [
       "[(4, 23),\n",
       " (23, 22),\n",
       " (22, 21),\n",
       " (21, 20),\n",
       " (20, 19),\n",
       " (19, 18),\n",
       " (18, 17),\n",
       " (17, 16),\n",
       " (16, 15),\n",
       " (15, 14),\n",
       " (14, 13),\n",
       " (13, 12),\n",
       " (12, 11),\n",
       " (11, 10),\n",
       " (10, 9),\n",
       " (9, 2)]"
      ]
     },
     "execution_count": 4,
     "metadata": {},
     "output_type": "execute_result"
    }
   ],
   "source": [
    "hg.get_edge_segments(4, 2)"
   ]
  },
  {
   "cell_type": "code",
   "execution_count": 5,
   "metadata": {},
   "outputs": [
    {
     "data": {
      "text/plain": [
       "[(2, 9),\n",
       " (9, 10),\n",
       " (10, 11),\n",
       " (11, 12),\n",
       " (12, 13),\n",
       " (13, 14),\n",
       " (14, 15),\n",
       " (15, 16),\n",
       " (16, 17),\n",
       " (17, 18),\n",
       " (18, 19),\n",
       " (19, 20),\n",
       " (20, 21),\n",
       " (21, 22),\n",
       " (22, 23),\n",
       " (23, 4)]"
      ]
     },
     "execution_count": 5,
     "metadata": {},
     "output_type": "execute_result"
    }
   ],
   "source": [
    "hg.get_edge_segments(2, 4)"
   ]
  }
 ],
 "metadata": {
  "kernelspec": {
   "display_name": "STHypeEnv",
   "language": "python",
   "name": "python3"
  },
  "language_info": {
   "codemirror_mode": {
    "name": "ipython",
    "version": 3
   },
   "file_extension": ".py",
   "mimetype": "text/x-python",
   "name": "python",
   "nbconvert_exporter": "python",
   "pygments_lexer": "ipython3",
   "version": "3.12.2"
  }
 },
 "nbformat": 4,
 "nbformat_minor": 2
}

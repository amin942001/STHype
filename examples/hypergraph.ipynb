{
 "cells": [
  {
   "cell_type": "markdown",
   "metadata": {},
   "source": [
    "# Import Libraries"
   ]
  },
  {
   "cell_type": "code",
   "execution_count": 1,
   "metadata": {},
   "outputs": [],
   "source": [
    "import networkx as nx\n",
    "import numpy as np\n",
    "from sthype import SpatialGraph\n",
    "from sthype.hypergraph.hypergraph_from_spatial_graphs import hypergraph_from_spatial_graphs\n",
    "\n",
    "%load_ext autoreload\n",
    "%autoreload 2"
   ]
  },
  {
   "cell_type": "markdown",
   "metadata": {},
   "source": [
    "# Set Up Spatial Graphs"
   ]
  },
  {
   "cell_type": "code",
   "execution_count": 2,
   "metadata": {},
   "outputs": [],
   "source": [
    "g = nx.Graph()\n",
    "g.add_edges_from([(1, 2, {'pixels': [np.array([1, 2]), (2, 4), [3,4]]}), (2, 3, {'pixels': [np.array([1, 2]), (0, 1), [1,3]]})])\n",
    "nx.set_node_attributes(g, {1: (3, 4), 2: (1, 2), 3: (1, 3)}, 'position')\n",
    "sg = SpatialGraph(g)\n",
    "\n",
    "g2 = nx.Graph()\n",
    "g2.add_edges_from([\n",
    "    (1, 2, {'pixels': [np.array([1, 2]), (2, 4), [3,4]]}),\n",
    "    (2, 3, {'pixels': [np.array([1, 2]), (0, 1), [1,3]]}),\n",
    "    (2, 4, {'pixels': [np.array([1, 2]), (0, 1), [20,40]]})\n",
    "])\n",
    "nx.set_node_attributes(g2, {1: (3, 4), 2: (1, 2), 3: (1, 3), 4: (20, 40)}, 'position')\n",
    "sg2 = SpatialGraph(g2)"
   ]
  },
  {
   "cell_type": "markdown",
   "metadata": {},
   "source": [
    "# Set Up HyperGraph"
   ]
  },
  {
   "cell_type": "code",
   "execution_count": 33,
   "metadata": {},
   "outputs": [],
   "source": [
    "hg = hypergraph_from_spatial_graphs([sg, sg2], [0, 1], 3, 3)"
   ]
  },
  {
   "cell_type": "code",
   "execution_count": 34,
   "metadata": {},
   "outputs": [
    {
     "name": "stdout",
     "output_type": "stream",
     "text": [
      "(1, 5, {'center': <POINT (1.776 3.553)>, 'edge': {1, 2}, 'centers': [<POINT (1.776 3.553)>, <POINT (1.776 3.553)>], 'centers_distance': [0.0, 0.0], 'activation': 0.0})\n",
      "(5, 2, {'center': <POINT (1 2)>, 'edge': {1, 2}, 'centers': [<POINT (1 2)>, <POINT (1 2)>], 'centers_distance': [0.0, 0.0], 'activation': 0.0})\n",
      "(2, 7, {'center': <POINT (0.038 1.077)>, 'edge': {2, 3}, 'centers': [<POINT (0.038 1.077)>, <POINT (0.038 1.077)>], 'centers_distance': [2.7755575615628914e-17, 1.3877787807814457e-17], 'activation': 0.0})\n",
      "(2, 9, {'center': <POINT (0.039 1.076)>, 'edge': {2, 4}, 'centers': [<POINT (0.039 1.076)>, <POINT (0.038 1.077)>], 'centers_distance': [2.7755575615628914e-17, 0.0008753262427850383], 'activation': 0.3823529411764707})\n",
      "(7, 3, {'center': <POINT (1 3)>, 'edge': {2, 3}, 'centers': [<POINT (1 3)>, <POINT (1 3)>], 'centers_distance': [0.0, 0.0], 'activation': 0.0})\n",
      "(9, 10, {'center': <POINT (1.408 3.746)>, 'edge': {2, 4}, 'centers': [<POINT (1.408 3.746)>, <POINT (1.78 3.56)>], 'centers_distance': [4.965068306494546e-16, 0.41572761795847024], 'activation': 0.4397058823529413})\n",
      "(10, 11, {'center': <POINT (2.777 6.415)>, 'edge': {2, 4}, 'centers': [<POINT (2.777 6.415)>, <POINT (2.777 4)>], 'centers_distance': [0.0, 2.4152390471493383], 'activation': 0.49705882352941183})\n",
      "(11, 12, {'center': <POINT (4.146 9.085)>, 'edge': {2, 4}, 'centers': [<POINT (4.146 9.085)>, <POINT (4.146 9.085)>], 'centers_distance': [8.881784197001252e-16, 5.212234926466574], 'activation': 0.5544117647058824})\n",
      "(12, 13, {'center': <POINT (5.515 11.754)>, 'edge': {2, 4}, 'centers': [<POINT (5.515 11.754)>, <POINT (5.515 11.754)>], 'centers_distance': [0.0, 8.151791064979351], 'activation': 0.611764705882353})\n",
      "(13, 14, {'center': <POINT (6.884 14.424)>, 'edge': {2, 4}, 'centers': [<POINT (6.884 14.424)>, <POINT (6.884 14.424)>], 'centers_distance': [0.0, 11.12366855877486], 'activation': 0.6691176470588236})\n",
      "(14, 15, {'center': <POINT (8.253 17.093)>, 'edge': {2, 4}, 'centers': [<POINT (8.253 17.093)>, <POINT (8.253 17.093)>], 'centers_distance': [0.0, 14.107455718302843], 'activation': 0.7264705882352942})\n",
      "(15, 16, {'center': <POINT (9.622 19.763)>, 'edge': {2, 4}, 'centers': [<POINT (9.622 19.763)>, <POINT (9.622 19.763)>], 'centers_distance': [0.0, 17.09691818668718], 'activation': 0.7838235294117648})\n",
      "(16, 17, {'center': <POINT (10.991 22.432)>, 'edge': {2, 4}, 'centers': [<POINT (10.991 22.432)>, <POINT (10.991 22.432)>], 'centers_distance': [0.0, 20.08952254586141], 'activation': 0.8411764705882354})\n",
      "(17, 18, {'center': <POINT (12.36 25.101)>, 'edge': {2, 4}, 'centers': [<POINT (12.36 25.101)>, <POINT (12.36 25.101)>], 'centers_distance': [0.0, 23.08404688868642], 'activation': 0.8985294117647059})\n",
      "(18, 19, {'center': <POINT (13.729 27.771)>, 'edge': {2, 4}, 'centers': [<POINT (13.729 27.771)>, <POINT (13.729 27.771)>], 'centers_distance': [0.0, 26.079829857525382], 'activation': 0.9558823529411765})\n",
      "(19, 20, {'center': <POINT (15.098 30.44)>, 'edge': {2, 4}, 'centers': [<POINT (15.098 30.44)>, <POINT (15.098 30.44)>], 'centers_distance': [0.0, 29.076482421982746], 'activation': 1.013235294117647})\n",
      "(20, 21, {'center': <POINT (16.467 33.11)>, 'edge': {2, 4}, 'centers': [<POINT (16.467 33.11)>, <POINT (16.467 33.11)>], 'centers_distance': [0.0, 32.07376084394019], 'activation': 1.0705882352941178})\n",
      "(21, 22, {'center': <POINT (17.835 35.779)>, 'edge': {2, 4}, 'centers': [<POINT (17.835 35.779)>, <POINT (17.835 35.779)>], 'centers_distance': [0.0, 35.07150466279812], 'activation': 1.1279411764705882})\n",
      "(22, 23, {'center': <POINT (19.204 38.449)>, 'edge': {2, 4}, 'centers': [<POINT (19.204 38.449)>, <POINT (19.204 38.449)>], 'centers_distance': [3.552713678800501e-15, 38.06960393740745], 'activation': 1.1852941176470588})\n",
      "(23, 4, {'center': <POINT (20 40)>, 'edge': {2, 4}, 'centers': [<POINT (20 40)>, <POINT (20 40)>], 'centers_distance': [0.0, 39.81205847478876], 'activation': 1.2426470588235294})\n"
     ]
    }
   ],
   "source": [
    "for e in hg.edges(data=True):\n",
    "    print(e)"
   ]
  },
  {
   "cell_type": "code",
   "execution_count": 35,
   "metadata": {},
   "outputs": [
    {
     "name": "stdout",
     "output_type": "stream",
     "text": [
      "(1, 2, {'segments': [(1, 5), (5, 2)], 'begin_timestamp': 0.0, 'end_timestamp': 0.0, 'main_son': (2, 3), 'hyphae': 0})\n",
      "(2, 3, {'segments': [(2, 7), (7, 3)], 'begin_timestamp': 0.0, 'end_timestamp': 0.0, 'parent': (1, 2), 'hyphae': 0})\n",
      "(2, 4, {'segments': [(2, 9), (9, 10), (10, 11), (11, 12), (12, 13), (13, 14), (14, 15), (15, 16), (16, 17), (17, 18), (18, 19), (19, 20), (20, 21), (21, 22), (22, 23), (23, 4)], 'begin_timestamp': 0.4397058823529413, 'end_timestamp': 1.1852941176470588, 'hyphae': 1})\n"
     ]
    }
   ],
   "source": [
    "for e in hg.edges_graph.edges(data=True):\n",
    "    print(e)"
   ]
  },
  {
   "cell_type": "markdown",
   "metadata": {},
   "source": [
    "# Test Some Class Functions"
   ]
  },
  {
   "cell_type": "code",
   "execution_count": 29,
   "metadata": {},
   "outputs": [
    {
     "data": {
      "text/plain": [
       "{'pixel': 1}"
      ]
     },
     "execution_count": 29,
     "metadata": {},
     "output_type": "execute_result"
    }
   ],
   "source": [
    "grp = nx.Graph()\n",
    "grp.add_edge(1,2, pixel=2)\n",
    "grp.add_edge(2,1, pixel=1)\n",
    "nx.set_node_attributes(grp, {1:1, 2:2, 3:3}, 'label')"
   ]
  },
  {
   "cell_type": "code",
   "execution_count": null,
   "metadata": {},
   "outputs": [
    {
     "data": {
      "text/plain": [
       "[(4, 23),\n",
       " (23, 22),\n",
       " (22, 21),\n",
       " (21, 20),\n",
       " (20, 19),\n",
       " (19, 18),\n",
       " (18, 17),\n",
       " (17, 16),\n",
       " (16, 15),\n",
       " (15, 14),\n",
       " (14, 13),\n",
       " (13, 12),\n",
       " (12, 11),\n",
       " (11, 10),\n",
       " (10, 9),\n",
       " (9, 2)]"
      ]
     },
     "execution_count": 7,
     "metadata": {},
     "output_type": "execute_result"
    }
   ],
   "source": [
    "hg.get_edge_segments(4, 2)"
   ]
  },
  {
   "cell_type": "code",
   "execution_count": null,
   "metadata": {},
   "outputs": [
    {
     "data": {
      "text/plain": [
       "[(2, 9),\n",
       " (9, 10),\n",
       " (10, 11),\n",
       " (11, 12),\n",
       " (12, 13),\n",
       " (13, 14),\n",
       " (14, 15),\n",
       " (15, 16),\n",
       " (16, 17),\n",
       " (17, 18),\n",
       " (18, 19),\n",
       " (19, 20),\n",
       " (20, 21),\n",
       " (21, 22),\n",
       " (22, 23),\n",
       " (23, 4)]"
      ]
     },
     "execution_count": 8,
     "metadata": {},
     "output_type": "execute_result"
    }
   ],
   "source": [
    "hg.get_edge_segments(2, 4)"
   ]
  }
 ],
 "metadata": {
  "kernelspec": {
   "display_name": "STHypeEnv",
   "language": "python",
   "name": "python3"
  },
  "language_info": {
   "codemirror_mode": {
    "name": "ipython",
    "version": 3
   },
   "file_extension": ".py",
   "mimetype": "text/x-python",
   "name": "python",
   "nbconvert_exporter": "python",
   "pygments_lexer": "ipython3",
   "version": "3.12.2"
  }
 },
 "nbformat": 4,
 "nbformat_minor": 2
}

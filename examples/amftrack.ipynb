{
 "cells": [
  {
   "cell_type": "markdown",
   "metadata": {},
   "source": [
    "# Import libraries"
   ]
  },
  {
   "cell_type": "code",
   "execution_count": 1,
   "metadata": {},
   "outputs": [],
   "source": [
    "import networkx as nx\n",
    "import numpy as np\n",
    "from sthype import SpatialGraph\n",
    "from sthype.plot import plot_spatial_graph\n",
    "from sthype.hypergraph.hypergraph_from_spatial_graphs import hypergraph_from_spatial_graphs\n",
    "import matplotlib.pyplot as plt\n",
    "import os\n",
    "import pickle\n",
    "\n",
    "%load_ext autoreload\n",
    "%autoreload 2"
   ]
  },
  {
   "cell_type": "markdown",
   "metadata": {},
   "source": [
    "# Import Graphs"
   ]
  },
  {
   "cell_type": "code",
   "execution_count": 2,
   "metadata": {},
   "outputs": [
    {
     "data": {
      "text/plain": [
       "[<networkx.classes.graph.Graph at 0x7f28231d4da0>,\n",
       " <networkx.classes.graph.Graph at 0x7f28231d4e60>,\n",
       " <networkx.classes.graph.Graph at 0x7f28231d42f0>,\n",
       " <networkx.classes.graph.Graph at 0x7f2823234380>,\n",
       " <networkx.classes.graph.Graph at 0x7f28231d4f80>,\n",
       " <networkx.classes.graph.Graph at 0x7f28231d4290>,\n",
       " <networkx.classes.graph.Graph at 0x7f28231d51c0>,\n",
       " <networkx.classes.graph.Graph at 0x7f28231d5250>,\n",
       " <networkx.classes.graph.Graph at 0x7f282cbdc3b0>,\n",
       " <networkx.classes.graph.Graph at 0x7f28231d5100>,\n",
       " <networkx.classes.graph.Graph at 0x7f28231d4a70>,\n",
       " <networkx.classes.graph.Graph at 0x7f2844cd9af0>,\n",
       " <networkx.classes.graph.Graph at 0x7f28231d49b0>,\n",
       " <networkx.classes.graph.Graph at 0x7f28232376b0>,\n",
       " <networkx.classes.graph.Graph at 0x7f28231d41d0>,\n",
       " <networkx.classes.graph.Graph at 0x7f2844cda9c0>,\n",
       " <networkx.classes.graph.Graph at 0x7f28231d4c20>,\n",
       " <networkx.classes.graph.Graph at 0x7f28231d4920>,\n",
       " <networkx.classes.graph.Graph at 0x7f28231d41a0>,\n",
       " <networkx.classes.graph.Graph at 0x7f2844cd9ac0>,\n",
       " <networkx.classes.graph.Graph at 0x7f28232d7710>]"
      ]
     },
     "execution_count": 2,
     "metadata": {},
     "output_type": "execute_result"
    }
   ],
   "source": [
    "graphs = []\n",
    "\n",
    "str_directory = \"/home/ipausers/hamzaoui/Documents/Data/Graphs/482_20230908\"\n",
    "directory = os.fsencode(str_directory)\n",
    "    \n",
    "for file in os.listdir(directory):\n",
    "    filename = os.fsdecode(file)\n",
    "    file_path = os.path.join(str_directory, filename)\n",
    "    graphs.append((filename, pickle.load(open(file_path, 'rb'))))\n",
    "\n",
    "graphs.sort()\n",
    "graphs = [graph for _, graph in graphs]\n",
    "graphs"
   ]
  },
  {
   "cell_type": "markdown",
   "metadata": {},
   "source": [
    "# Spatial Graph"
   ]
  },
  {
   "cell_type": "code",
   "execution_count": 6,
   "metadata": {},
   "outputs": [],
   "source": [
    "spatial_graphs = [SpatialGraph(graph) for graph in graphs]"
   ]
  },
  {
   "cell_type": "markdown",
   "metadata": {},
   "source": [
    "# HyperGraph"
   ]
  },
  {
   "cell_type": "code",
   "execution_count": 10,
   "metadata": {},
   "outputs": [
    {
     "name": "stdout",
     "output_type": "stream",
     "text": [
      "Segmentation\n",
      "Segment Activation\n",
      "1.059600617736578e-05\n",
      "Comparing with graph 20\n",
      "pool\n",
      "64.38895903699449\n",
      "Comparing with graph 19\n",
      "pool\n",
      "133.90283188500325\n",
      "Comparing with graph 18\n",
      "pool\n",
      "191.51634230898344\n",
      "Comparing with graph 17\n",
      "pool\n",
      "250.49690844098222\n",
      "Comparing with graph 16\n",
      "pool\n",
      "306.206183140981\n",
      "Comparing with graph 15\n",
      "pool\n",
      "364.8009164920077\n",
      "Comparing with graph 14\n",
      "pool\n"
     ]
    }
   ],
   "source": [
    "hypergraph_from_spatial_graphs(spatial_graphs, np.arange(len(spatial_graphs)), verbose=1)"
   ]
  }
 ],
 "metadata": {
  "kernelspec": {
   "display_name": "STHypeEnv",
   "language": "python",
   "name": "python3"
  },
  "language_info": {
   "codemirror_mode": {
    "name": "ipython",
    "version": 3
   },
   "file_extension": ".py",
   "mimetype": "text/x-python",
   "name": "python",
   "nbconvert_exporter": "python",
   "pygments_lexer": "ipython3",
   "version": "3.12.2"
  }
 },
 "nbformat": 4,
 "nbformat_minor": 2
}
